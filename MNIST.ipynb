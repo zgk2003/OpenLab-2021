{
 "cells": [
  {
   "cell_type": "code",
   "execution_count": 1,
   "id": "702009ec",
   "metadata": {},
   "outputs": [],
   "source": [
    "import numpy as np\n",
    "from PIL import Image\n",
    "import os"
   ]
  },
  {
   "cell_type": "code",
   "execution_count": 2,
   "id": "a23e937f",
   "metadata": {},
   "outputs": [
    {
     "data": {
      "text/plain": [
       "60000"
      ]
     },
     "execution_count": 2,
     "metadata": {},
     "output_type": "execute_result"
    }
   ],
   "source": [
    "listing = os.listdir('images/')\n",
    "len(listing)"
   ]
  },
  {
   "cell_type": "code",
   "execution_count": 3,
   "id": "0a52599e",
   "metadata": {},
   "outputs": [],
   "source": [
    "def load(path=\"images/\"):\n",
    "    '''\n",
    "    INPUT:\n",
    "    path            : the path of folder to be processed\n",
    "    \n",
    "    OUTPUT:\n",
    "    X, Y\n",
    "    '''\n",
    "    if path[-1] != '/':\n",
    "        path += '/'\n",
    "    \n",
    "    listing = os.listdir(path)\n",
    "    \n",
    "    X = np.zeros((60000, 784))\n",
    "    Y = np.zeros((60000, 1))\n",
    "    \n",
    "    for i in range(len(listing)):\n",
    "        img = Image.open('images/' + listing[i]).convert('L')\n",
    "        arr = np.asarray(img)\n",
    "        label = listing[i][-5]\n",
    "        X[i] = arr.flatten()\n",
    "        Y[i] = label    \n",
    "    return X, Y\n",
    "    \n",
    "X, Y = load()"
   ]
  },
  {
   "cell_type": "code",
   "execution_count": 4,
   "id": "4b65857a",
   "metadata": {},
   "outputs": [
    {
     "name": "stdout",
     "output_type": "stream",
     "text": [
      "[0.]\n"
     ]
    },
    {
     "data": {
      "image/png": "[encoded data removed]",
      "text/plain": [
       "<Figure size 432x288 with 1 Axes>"
      ]
     },
     "metadata": {
      "needs_background": "light"
     },
     "output_type": "display_data"
    }
   ],
   "source": [
    "from matplotlib.pyplot import imshow\n",
    "\n",
    "index = 300\n",
    "\n",
    "%matplotlib inline\n",
    "matrix = np.reshape(X[index], (28, 28))\n",
    "img = Image.fromarray(matrix)\n",
    "imshow(np.asarray(img))\n",
    "print(Y[index])"
   ]
  },
  {
   "cell_type": "code",
   "execution_count": 5,
   "id": "ef839225",
   "metadata": {},
   "outputs": [],
   "source": [
    "from sklearn.model_selection import train_test_split\n",
    "xTr, xTe, yTr, yTe = train_test_split(X, Y, test_size=0.05)\n",
    "\n",
    "xTr, xVa, yTr, yVa = train_test_split(xTr, yTr, test_size=0.02, random_state=1)"
   ]
  },
  {
   "cell_type": "code",
   "execution_count": 6,
   "id": "92a50c2d",
   "metadata": {},
   "outputs": [
    {
     "name": "stdout",
     "output_type": "stream",
     "text": [
      "(55860, 784)\n",
      "(55860, 1)\n",
      "(1140, 784)\n",
      "(1140, 1)\n",
      "(3000, 784)\n",
      "(3000, 1)\n"
     ]
    }
   ],
   "source": [
    "print(xTr.shape)\n",
    "print(yTr.shape)\n",
    "print(xVa.shape)\n",
    "print(yVa.shape)\n",
    "print(xTe.shape)\n",
    "print(yTe.shape)"
   ]
  },
  {
   "cell_type": "code",
   "execution_count": 7,
   "id": "5d650021",
   "metadata": {},
   "outputs": [
    {
     "data": {
      "text/plain": [
       "KNeighborsClassifier(n_neighbors=3)"
      ]
     },
     "execution_count": 7,
     "metadata": {},
     "output_type": "execute_result"
    }
   ],
   "source": [
    "from sklearn.neighbors import KNeighborsClassifier\n",
    "knn = KNeighborsClassifier(n_neighbors=3)\n",
    "knn.fit(xTr, yTr.ravel())"
   ]
  },
  {
   "cell_type": "code",
   "execution_count": 8,
   "id": "9726482c",
   "metadata": {},
   "outputs": [
    {
     "data": {
      "text/plain": [
       "0.9780701754385965"
      ]
     },
     "execution_count": 8,
     "metadata": {},
     "output_type": "execute_result"
    }
   ],
   "source": [
    "knn.score(xVa, yVa)"
   ]
  },
  {
   "cell_type": "code",
   "execution_count": 9,
   "id": "2311a598",
   "metadata": {},
   "outputs": [
    {
     "name": "stdout",
     "output_type": "stream",
     "text": [
      "这次测试验证集中的第45个照片\n",
      "预测的数字是：4.0\n",
      "实际的数字是：4.0\n"
     ]
    },
    {
     "data": {
      "image/png": "[encoded data removed]",
      "text/plain": [
       "<Figure size 432x288 with 1 Axes>"
      ]
     },
     "metadata": {
      "needs_background": "light"
     },
     "output_type": "display_data"
    }
   ],
   "source": [
    "from random import randrange\n",
    "index = randrange(1140)\n",
    "\n",
    "%matplotlib inline\n",
    "matrix = np.reshape(xVa[index], (28, 28))\n",
    "img = Image.fromarray(matrix)\n",
    "imshow(np.asarray(img))\n",
    "x = np.reshape(xVa[index], (1, 784))\n",
    "y_hat = knn.predict(x)[0]\n",
    "y = yVa[index][0]\n",
    "print(\"这次测试验证集中的第\"+str(index+1)+\"个照片\")\n",
    "print(\"预测的数字是：\"+str(y_hat))\n",
    "print(\"实际的数字是：\"+str(y))"
   ]
  },
  {
   "cell_type": "code",
   "execution_count": 10,
   "id": "d017c548",
   "metadata": {},
   "outputs": [],
   "source": [
    "y_hat = np.reshape(knn.predict(xVa), (1140, 1))"
   ]
  },
  {
   "cell_type": "code",
   "execution_count": 11,
   "id": "30ecfba4",
   "metadata": {},
   "outputs": [
    {
     "data": {
      "text/plain": [
       "25"
      ]
     },
     "execution_count": 11,
     "metadata": {},
     "output_type": "execute_result"
    }
   ],
   "source": [
    "wrong_indices = np.where(np.not_equal(y_hat, yVa))[0]\n",
    "len(wrong_indices)"
   ]
  },
  {
   "cell_type": "code",
   "execution_count": 12,
   "id": "b54718e6",
   "metadata": {},
   "outputs": [
    {
     "name": "stdout",
     "output_type": "stream",
     "text": [
      "这次测试验证集中的第33个照片\n",
      "预测的数字是：6.0\n",
      "实际的数字是：5.0\n"
     ]
    },
    {
     "data": {
      "image/png": "[encoded data removed]",
      "text/plain": [
       "<Figure size 432x288 with 1 Axes>"
      ]
     },
     "metadata": {
      "needs_background": "light"
     },
     "output_type": "display_data"
    }
   ],
   "source": [
    "%matplotlib inline\n",
    "\n",
    "from random import randrange\n",
    "index = wrong_indices[randrange(25)]\n",
    "\n",
    "matrix = np.reshape(xVa[index], (28, 28))\n",
    "img = Image.fromarray(matrix)\n",
    "imshow(np.asarray(img))\n",
    "x = np.reshape(xVa[index], (1, 784))\n",
    "y_hat = knn.predict(x)[0]\n",
    "y = yVa[index][0]\n",
    "print(\"这次测试验证集中的第\"+str(index+1)+\"个照片\")\n",
    "print(\"预测的数字是：\"+str(y_hat))\n",
    "print(\"实际的数字是：\"+str(y))"
   ]
  },
  {
   "cell_type": "code",
   "execution_count": 13,
   "id": "9f341392",
   "metadata": {},
   "outputs": [
    {
     "data": {
      "text/plain": [
       "(array([2., 3., 4., 5., 6., 7., 8., 9.]), array([3, 2, 5, 3, 1, 3, 5, 3]))"
      ]
     },
     "execution_count": 13,
     "metadata": {},
     "output_type": "execute_result"
    }
   ],
   "source": [
    "np.unique(yVa[wrong_indices], return_counts=True)"
   ]
  },
  {
   "cell_type": "code",
   "execution_count": 14,
   "id": "3dbb183b",
   "metadata": {},
   "outputs": [
    {
     "data": {
      "text/plain": [
       "(array([0., 1., 2., 3., 4., 5., 6., 7., 8., 9.]),\n",
       " array([100, 141, 108,  98, 133,  98, 116, 134,  97, 115]))"
      ]
     },
     "execution_count": 14,
     "metadata": {},
     "output_type": "execute_result"
    }
   ],
   "source": [
    "np.unique(yVa, return_counts=True)"
   ]
  },
  {
   "cell_type": "code",
   "execution_count": 15,
   "id": "c5d9bf01",
   "metadata": {},
   "outputs": [
    {
     "data": {
      "text/plain": [
       "array([0.97807018, 0.96578947, 0.97807018, 0.97280702, 0.9745614 ,\n",
       "       0.97631579, 0.97631579, 0.97192982, 0.97192982, 0.97368421])"
      ]
     },
     "execution_count": 15,
     "metadata": {},
     "output_type": "execute_result"
    }
   ],
   "source": [
    "from sklearn.neighbors import KNeighborsClassifier\n",
    "ks = [1,2,3,4,5,6,7,8,9,10]\n",
    "scores = np.zeros(10)\n",
    "\n",
    "for i in range(len(ks)):\n",
    "    k = ks[i]\n",
    "    knn = KNeighborsClassifier(n_neighbors=k).fit(xTr, yTr.ravel())\n",
    "    scores[i] = knn.score(xVa, yVa)\n",
    "    \n",
    "scores"
   ]
  },
  {
   "cell_type": "code",
   "execution_count": 16,
   "id": "41e35863",
   "metadata": {},
   "outputs": [],
   "source": [
    "from sklearn.neural_network import MLPClassifier"
   ]
  },
  {
   "cell_type": "code",
   "execution_count": 17,
   "id": "7031fc68",
   "metadata": {},
   "outputs": [
    {
     "name": "stderr",
     "output_type": "stream",
     "text": [
      "/Users/zhaiguankai/anaconda3/lib/python3.8/site-packages/sklearn/utils/validation.py:63: DataConversionWarning: A column-vector y was passed when a 1d array was expected. Please change the shape of y to (n_samples, ), for example using ravel().\n",
      "  return f(*args, **kwargs)\n"
     ]
    }
   ],
   "source": [
    "nn_model = MLPClassifier(hidden_layer_sizes=(500,200,50,30,30,15)).fit(xTr, yTr)"
   ]
  },
  {
   "cell_type": "code",
   "execution_count": 18,
   "id": "8e1e6d49",
   "metadata": {},
   "outputs": [
    {
     "data": {
      "text/plain": [
       "0.12368421052631579"
      ]
     },
     "execution_count": 18,
     "metadata": {},
     "output_type": "execute_result"
    }
   ],
   "source": [
    "nn_model.score(xVa, yVa)"
   ]
  },
  {
   "cell_type": "code",
   "execution_count": 19,
   "id": "a8f68589",
   "metadata": {},
   "outputs": [],
   "source": [
    "from sklearn.ensemble import RandomForestClassifier"
   ]
  },
  {
   "cell_type": "code",
   "execution_count": 20,
   "id": "14b00742",
   "metadata": {},
   "outputs": [
    {
     "name": "stderr",
     "output_type": "stream",
     "text": [
      "<ipython-input-20-8936e23eea3f>:1: DataConversionWarning: A column-vector y was passed when a 1d array was expected. Please change the shape of y to (n_samples,), for example using ravel().\n",
      "  model = RandomForestClassifier(n_estimators=1000).fit(xTr, yTr)\n"
     ]
    }
   ],
   "source": [
    "model = RandomForestClassifier(n_estimators=1000).fit(xTr, yTr)"
   ]
  },
  {
   "cell_type": "code",
   "execution_count": 21,
   "id": "2eb07275",
   "metadata": {},
   "outputs": [
    {
     "data": {
      "text/plain": [
       "0.9719298245614035"
      ]
     },
     "execution_count": 21,
     "metadata": {},
     "output_type": "execute_result"
    }
   ],
   "source": [
    "model.score(xVa, yVa)"
   ]
  },
  {
   "cell_type": "code",
   "execution_count": null,
   "id": "78f5a092",
   "metadata": {},
   "outputs": [],
   "source": []
  }
 ],
 "metadata": {
  "kernelspec": {
   "display_name": "Python 3",
   "language": "python",
   "name": "python3"
  },
  "language_info": {
   "codemirror_mode": {
    "name": "ipython",
    "version": 3
   },
   "file_extension": ".py",
   "mimetype": "text/x-python",
   "name": "python",
   "nbconvert_exporter": "python",
   "pygments_lexer": "ipython3",
   "version": "3.8.8"
  }
 },
 "nbformat": 4,
 "nbformat_minor": 5
}
